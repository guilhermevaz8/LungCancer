{
 "cells": [
  {
   "cell_type": "markdown",
   "metadata": {},
   "source": [
    "# Lung Cancer"
   ]
  },
  {
   "cell_type": "markdown",
   "metadata": {},
   "source": [
    "#"
   ]
  },
  {
   "cell_type": "markdown",
   "metadata": {},
   "source": [
    "### Milestones\n",
    "\n",
    "##### 1. Verificar que imagens podemos usar: \n",
    "##### 1.1 Apenas manter as imagens que têm anotações\n",
    "##### 1.2 Retirar as linhas dos nódulos <3mm que estão diagnosticadas como cancro.\n",
    "\n",
    "##### 2. Fazer download das imagens\n",
    "##### 3. Manter apenas a área relativa aos tumores\n",
    "##### 4. Criar "
   ]
  },
  {
   "cell_type": "markdown",
   "metadata": {},
   "source": []
  }
 ],
 "metadata": {
  "language_info": {
   "name": "python"
  },
  "orig_nbformat": 4
 },
 "nbformat": 4,
 "nbformat_minor": 2
}
